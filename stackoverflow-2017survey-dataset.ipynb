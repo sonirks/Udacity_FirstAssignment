{
 "cells": [
  {
   "cell_type": "code",
   "execution_count": 1,
   "id": "87e04911",
   "metadata": {
    "_cell_guid": "b1076dfc-b9ad-4769-8c92-a6c4dae69d19",
    "_uuid": "8f2839f25d086af736a60e9eeb907d3b93b6e0e5",
    "execution": {
     "iopub.execute_input": "2022-04-02T16:47:43.846764Z",
     "iopub.status.busy": "2022-04-02T16:47:43.844752Z",
     "iopub.status.idle": "2022-04-02T16:47:43.871302Z",
     "shell.execute_reply": "2022-04-02T16:47:43.871964Z",
     "shell.execute_reply.started": "2022-04-02T15:51:58.721996Z"
    },
    "papermill": {
     "duration": 0.054964,
     "end_time": "2022-04-02T16:47:43.872280",
     "exception": false,
     "start_time": "2022-04-02T16:47:43.817316",
     "status": "completed"
    },
    "tags": []
   },
   "outputs": [
    {
     "name": "stdout",
     "output_type": "stream",
     "text": [
      "/kaggle/input/so-survey-2017/survey_results_schema.csv\n",
      "/kaggle/input/so-survey-2017/survey_results_public.csv\n"
     ]
    }
   ],
   "source": [
    "# This Python 3 environment comes with many helpful analytics libraries installed\n",
    "# It is defined by the kaggle/python Docker image: https://github.com/kaggle/docker-python\n",
    "# For example, here's several helpful packages to load\n",
    "\n",
    "import numpy as np # linear algebra\n",
    "import pandas as pd # data processing, CSV file I/O (e.g. pd.read_csv)\n",
    "import plotly as plt\n",
    "\n",
    "# Input data files are available in the read-only \"../input/\" directory\n",
    "# For example, running this (by clicking run or pressing Shift+Enter) will list all files under the input directory\n",
    "\n",
    "import os\n",
    "for dirname, _, filenames in os.walk('/kaggle/input'):\n",
    "    for filename in filenames:\n",
    "        print(os.path.join(dirname, filename))\n",
    "\n",
    "# You can write up to 20GB to the current directory (/kaggle/working/) that gets preserved as output when you create a version using \"Save & Run All\" \n",
    "# You can also write temporary files to /kaggle/temp/, but they won't be saved outside of the current session"
   ]
  },
  {
   "cell_type": "code",
   "execution_count": 2,
   "id": "d4c4ace7",
   "metadata": {
    "execution": {
     "iopub.execute_input": "2022-04-02T16:47:43.917523Z",
     "iopub.status.busy": "2022-04-02T16:47:43.915280Z",
     "iopub.status.idle": "2022-04-02T16:47:43.939461Z",
     "shell.execute_reply": "2022-04-02T16:47:43.938912Z",
     "shell.execute_reply.started": "2022-04-02T15:52:07.959494Z"
    },
    "papermill": {
     "duration": 0.046064,
     "end_time": "2022-04-02T16:47:43.939619",
     "exception": false,
     "start_time": "2022-04-02T16:47:43.893555",
     "status": "completed"
    },
    "tags": []
   },
   "outputs": [
    {
     "name": "stdout",
     "output_type": "stream",
     "text": [
      "                   Column                                           Question\n",
      "0              Respondent                               Respondent ID number\n",
      "1            Professional         Which of the following best describes you?\n",
      "2            ProgramHobby  Do you program as a hobby or contribute to ope...\n",
      "3                 Country            In which country do you currently live?\n",
      "4              University  Are you currently enrolled in a formal, degree...\n",
      "..                    ...                                                ...\n",
      "149  QuestionsInteresting                     The questions were interesting\n",
      "150    QuestionsConfusing                       The questions were confusing\n",
      "151     InterestedAnswers  I'm interested in learning how other developer...\n",
      "152                Salary  What is your current annual base salary, befor...\n",
      "153        ExpectedSalary  You said before that you are currently learnin...\n",
      "\n",
      "[154 rows x 2 columns]\n"
     ]
    }
   ],
   "source": [
    "df = pd.read_csv (r'/kaggle/input/so-survey-2017/survey_results_schema.csv')\n",
    "print (df)"
   ]
  },
  {
   "cell_type": "code",
   "execution_count": 3,
   "id": "53c35f23",
   "metadata": {
    "execution": {
     "iopub.execute_input": "2022-04-02T16:47:43.984919Z",
     "iopub.status.busy": "2022-04-02T16:47:43.984165Z",
     "iopub.status.idle": "2022-04-02T16:47:44.003378Z",
     "shell.execute_reply": "2022-04-02T16:47:44.003984Z",
     "shell.execute_reply.started": "2022-04-02T15:12:17.764582Z"
    },
    "papermill": {
     "duration": 0.044055,
     "end_time": "2022-04-02T16:47:44.004159",
     "exception": false,
     "start_time": "2022-04-02T16:47:43.960104",
     "status": "completed"
    },
    "tags": []
   },
   "outputs": [
    {
     "data": {
      "text/html": [
       "<div>\n",
       "<style scoped>\n",
       "    .dataframe tbody tr th:only-of-type {\n",
       "        vertical-align: middle;\n",
       "    }\n",
       "\n",
       "    .dataframe tbody tr th {\n",
       "        vertical-align: top;\n",
       "    }\n",
       "\n",
       "    .dataframe thead th {\n",
       "        text-align: right;\n",
       "    }\n",
       "</style>\n",
       "<table border=\"1\" class=\"dataframe\">\n",
       "  <thead>\n",
       "    <tr style=\"text-align: right;\">\n",
       "      <th></th>\n",
       "      <th>Column</th>\n",
       "      <th>Question</th>\n",
       "    </tr>\n",
       "  </thead>\n",
       "  <tbody>\n",
       "    <tr>\n",
       "      <th>0</th>\n",
       "      <td>Respondent</td>\n",
       "      <td>Respondent ID number</td>\n",
       "    </tr>\n",
       "    <tr>\n",
       "      <th>1</th>\n",
       "      <td>Professional</td>\n",
       "      <td>Which of the following best describes you?</td>\n",
       "    </tr>\n",
       "    <tr>\n",
       "      <th>2</th>\n",
       "      <td>ProgramHobby</td>\n",
       "      <td>Do you program as a hobby or contribute to ope...</td>\n",
       "    </tr>\n",
       "    <tr>\n",
       "      <th>3</th>\n",
       "      <td>Country</td>\n",
       "      <td>In which country do you currently live?</td>\n",
       "    </tr>\n",
       "    <tr>\n",
       "      <th>4</th>\n",
       "      <td>University</td>\n",
       "      <td>Are you currently enrolled in a formal, degree...</td>\n",
       "    </tr>\n",
       "    <tr>\n",
       "      <th>5</th>\n",
       "      <td>EmploymentStatus</td>\n",
       "      <td>Which of the following best describes your cur...</td>\n",
       "    </tr>\n",
       "    <tr>\n",
       "      <th>6</th>\n",
       "      <td>FormalEducation</td>\n",
       "      <td>Which of the following best describes the high...</td>\n",
       "    </tr>\n",
       "    <tr>\n",
       "      <th>7</th>\n",
       "      <td>MajorUndergrad</td>\n",
       "      <td>Which of the following best describes your mai...</td>\n",
       "    </tr>\n",
       "    <tr>\n",
       "      <th>8</th>\n",
       "      <td>HomeRemote</td>\n",
       "      <td>How often do you work from home or remotely?</td>\n",
       "    </tr>\n",
       "    <tr>\n",
       "      <th>9</th>\n",
       "      <td>CompanySize</td>\n",
       "      <td>In terms of the number of employees, how large...</td>\n",
       "    </tr>\n",
       "    <tr>\n",
       "      <th>10</th>\n",
       "      <td>CompanyType</td>\n",
       "      <td>Which of the following best describes the type...</td>\n",
       "    </tr>\n",
       "    <tr>\n",
       "      <th>11</th>\n",
       "      <td>YearsProgram</td>\n",
       "      <td>How long has it been since you first learned h...</td>\n",
       "    </tr>\n",
       "    <tr>\n",
       "      <th>12</th>\n",
       "      <td>YearsCodedJob</td>\n",
       "      <td>For how many years have you coded as part of y...</td>\n",
       "    </tr>\n",
       "    <tr>\n",
       "      <th>13</th>\n",
       "      <td>YearsCodedJobPast</td>\n",
       "      <td>For how many years did you code as part of you...</td>\n",
       "    </tr>\n",
       "    <tr>\n",
       "      <th>14</th>\n",
       "      <td>DeveloperType</td>\n",
       "      <td>Which of the following best describe you?</td>\n",
       "    </tr>\n",
       "    <tr>\n",
       "      <th>15</th>\n",
       "      <td>WebDeveloperType</td>\n",
       "      <td>Which of the following best describes you as a...</td>\n",
       "    </tr>\n",
       "    <tr>\n",
       "      <th>16</th>\n",
       "      <td>MobileDeveloperType</td>\n",
       "      <td>For which of the following platforms do you de...</td>\n",
       "    </tr>\n",
       "    <tr>\n",
       "      <th>17</th>\n",
       "      <td>NonDeveloperType</td>\n",
       "      <td>Which of the following describe you?</td>\n",
       "    </tr>\n",
       "    <tr>\n",
       "      <th>18</th>\n",
       "      <td>CareerSatisfaction</td>\n",
       "      <td>Career satisfaction rating</td>\n",
       "    </tr>\n",
       "    <tr>\n",
       "      <th>19</th>\n",
       "      <td>JobSatisfaction</td>\n",
       "      <td>Job satisfaction rating</td>\n",
       "    </tr>\n",
       "    <tr>\n",
       "      <th>20</th>\n",
       "      <td>ExCoderReturn</td>\n",
       "      <td>You said before that you used to code as part ...</td>\n",
       "    </tr>\n",
       "    <tr>\n",
       "      <th>21</th>\n",
       "      <td>ExCoderNotForMe</td>\n",
       "      <td>You said before that you used to code as part ...</td>\n",
       "    </tr>\n",
       "    <tr>\n",
       "      <th>22</th>\n",
       "      <td>ExCoderBalance</td>\n",
       "      <td>You said before that you used to code as part ...</td>\n",
       "    </tr>\n",
       "    <tr>\n",
       "      <th>23</th>\n",
       "      <td>ExCoder10Years</td>\n",
       "      <td>You said before that you used to code as part ...</td>\n",
       "    </tr>\n",
       "    <tr>\n",
       "      <th>24</th>\n",
       "      <td>ExCoderBelonged</td>\n",
       "      <td>You said before that you used to code as part ...</td>\n",
       "    </tr>\n",
       "    <tr>\n",
       "      <th>25</th>\n",
       "      <td>ExCoderSkills</td>\n",
       "      <td>You said before that you used to code as part ...</td>\n",
       "    </tr>\n",
       "    <tr>\n",
       "      <th>26</th>\n",
       "      <td>ExCoderWillNotCode</td>\n",
       "      <td>You said before that you used to code as part ...</td>\n",
       "    </tr>\n",
       "    <tr>\n",
       "      <th>27</th>\n",
       "      <td>ExCoderActive</td>\n",
       "      <td>You said before that you used to code as part ...</td>\n",
       "    </tr>\n",
       "    <tr>\n",
       "      <th>28</th>\n",
       "      <td>PronounceGIF</td>\n",
       "      <td>How do you pronounce \"GIF\"?</td>\n",
       "    </tr>\n",
       "    <tr>\n",
       "      <th>29</th>\n",
       "      <td>ProblemSolving</td>\n",
       "      <td>I love solving problems</td>\n",
       "    </tr>\n",
       "    <tr>\n",
       "      <th>30</th>\n",
       "      <td>BuildingThings</td>\n",
       "      <td>Building things is very rewarding</td>\n",
       "    </tr>\n",
       "    <tr>\n",
       "      <th>31</th>\n",
       "      <td>LearningNewTech</td>\n",
       "      <td>Learning new technologies is fun</td>\n",
       "    </tr>\n",
       "    <tr>\n",
       "      <th>32</th>\n",
       "      <td>BoringDetails</td>\n",
       "      <td>I tend to get bored by implementation details</td>\n",
       "    </tr>\n",
       "    <tr>\n",
       "      <th>33</th>\n",
       "      <td>JobSecurity</td>\n",
       "      <td>Job security is important to me</td>\n",
       "    </tr>\n",
       "    <tr>\n",
       "      <th>34</th>\n",
       "      <td>DiversityImportant</td>\n",
       "      <td>Diversity in the workplace is important</td>\n",
       "    </tr>\n",
       "    <tr>\n",
       "      <th>35</th>\n",
       "      <td>AnnoyingUI</td>\n",
       "      <td>It annoys me when software has a poor UI</td>\n",
       "    </tr>\n",
       "    <tr>\n",
       "      <th>36</th>\n",
       "      <td>FriendsDevelopers</td>\n",
       "      <td>Most of my friends are developers, engineers, ...</td>\n",
       "    </tr>\n",
       "    <tr>\n",
       "      <th>37</th>\n",
       "      <td>RightWrongWay</td>\n",
       "      <td>There's a right and a wrong way to do everything</td>\n",
       "    </tr>\n",
       "    <tr>\n",
       "      <th>38</th>\n",
       "      <td>UnderstandComputers</td>\n",
       "      <td>Honestly, there's a lot about computers that I...</td>\n",
       "    </tr>\n",
       "    <tr>\n",
       "      <th>39</th>\n",
       "      <td>SeriousWork</td>\n",
       "      <td>I take my work very seriously</td>\n",
       "    </tr>\n",
       "    <tr>\n",
       "      <th>40</th>\n",
       "      <td>InvestTimeTools</td>\n",
       "      <td>I invest a lot of time into the tools I use</td>\n",
       "    </tr>\n",
       "    <tr>\n",
       "      <th>41</th>\n",
       "      <td>WorkPayCare</td>\n",
       "      <td>I don't really care what I work on, so long as...</td>\n",
       "    </tr>\n",
       "    <tr>\n",
       "      <th>42</th>\n",
       "      <td>KinshipDevelopers</td>\n",
       "      <td>I feel a sense of kinship to other developers</td>\n",
       "    </tr>\n",
       "    <tr>\n",
       "      <th>43</th>\n",
       "      <td>ChallengeMyself</td>\n",
       "      <td>I like to challenge myself</td>\n",
       "    </tr>\n",
       "    <tr>\n",
       "      <th>44</th>\n",
       "      <td>CompetePeers</td>\n",
       "      <td>I think of myself as competing with my peers</td>\n",
       "    </tr>\n",
       "    <tr>\n",
       "      <th>45</th>\n",
       "      <td>ChangeWorld</td>\n",
       "      <td>I want to change the world</td>\n",
       "    </tr>\n",
       "    <tr>\n",
       "      <th>46</th>\n",
       "      <td>JobSeekingStatus</td>\n",
       "      <td>Which of the following best describes your cur...</td>\n",
       "    </tr>\n",
       "    <tr>\n",
       "      <th>47</th>\n",
       "      <td>HoursPerWeek</td>\n",
       "      <td>During a typical week, approximately how many ...</td>\n",
       "    </tr>\n",
       "    <tr>\n",
       "      <th>48</th>\n",
       "      <td>LastNewJob</td>\n",
       "      <td>When was the last time that you took a job wit...</td>\n",
       "    </tr>\n",
       "    <tr>\n",
       "      <th>49</th>\n",
       "      <td>AssessJobIndustry</td>\n",
       "      <td>When you're assessing potential jobs to apply ...</td>\n",
       "    </tr>\n",
       "  </tbody>\n",
       "</table>\n",
       "</div>"
      ],
      "text/plain": [
       "                 Column                                           Question\n",
       "0            Respondent                               Respondent ID number\n",
       "1          Professional         Which of the following best describes you?\n",
       "2          ProgramHobby  Do you program as a hobby or contribute to ope...\n",
       "3               Country            In which country do you currently live?\n",
       "4            University  Are you currently enrolled in a formal, degree...\n",
       "5      EmploymentStatus  Which of the following best describes your cur...\n",
       "6       FormalEducation  Which of the following best describes the high...\n",
       "7        MajorUndergrad  Which of the following best describes your mai...\n",
       "8            HomeRemote       How often do you work from home or remotely?\n",
       "9           CompanySize  In terms of the number of employees, how large...\n",
       "10          CompanyType  Which of the following best describes the type...\n",
       "11         YearsProgram  How long has it been since you first learned h...\n",
       "12        YearsCodedJob  For how many years have you coded as part of y...\n",
       "13    YearsCodedJobPast  For how many years did you code as part of you...\n",
       "14        DeveloperType          Which of the following best describe you?\n",
       "15     WebDeveloperType  Which of the following best describes you as a...\n",
       "16  MobileDeveloperType  For which of the following platforms do you de...\n",
       "17     NonDeveloperType               Which of the following describe you?\n",
       "18   CareerSatisfaction                         Career satisfaction rating\n",
       "19      JobSatisfaction                            Job satisfaction rating\n",
       "20        ExCoderReturn  You said before that you used to code as part ...\n",
       "21      ExCoderNotForMe  You said before that you used to code as part ...\n",
       "22       ExCoderBalance  You said before that you used to code as part ...\n",
       "23       ExCoder10Years  You said before that you used to code as part ...\n",
       "24      ExCoderBelonged  You said before that you used to code as part ...\n",
       "25        ExCoderSkills  You said before that you used to code as part ...\n",
       "26   ExCoderWillNotCode  You said before that you used to code as part ...\n",
       "27        ExCoderActive  You said before that you used to code as part ...\n",
       "28         PronounceGIF                        How do you pronounce \"GIF\"?\n",
       "29       ProblemSolving                            I love solving problems\n",
       "30       BuildingThings                  Building things is very rewarding\n",
       "31      LearningNewTech                   Learning new technologies is fun\n",
       "32        BoringDetails      I tend to get bored by implementation details\n",
       "33          JobSecurity                    Job security is important to me\n",
       "34   DiversityImportant            Diversity in the workplace is important\n",
       "35           AnnoyingUI           It annoys me when software has a poor UI\n",
       "36    FriendsDevelopers  Most of my friends are developers, engineers, ...\n",
       "37        RightWrongWay   There's a right and a wrong way to do everything\n",
       "38  UnderstandComputers  Honestly, there's a lot about computers that I...\n",
       "39          SeriousWork                      I take my work very seriously\n",
       "40      InvestTimeTools        I invest a lot of time into the tools I use\n",
       "41          WorkPayCare  I don't really care what I work on, so long as...\n",
       "42    KinshipDevelopers      I feel a sense of kinship to other developers\n",
       "43      ChallengeMyself                         I like to challenge myself\n",
       "44         CompetePeers       I think of myself as competing with my peers\n",
       "45          ChangeWorld                         I want to change the world\n",
       "46     JobSeekingStatus  Which of the following best describes your cur...\n",
       "47         HoursPerWeek  During a typical week, approximately how many ...\n",
       "48           LastNewJob  When was the last time that you took a job wit...\n",
       "49    AssessJobIndustry  When you're assessing potential jobs to apply ..."
      ]
     },
     "execution_count": 3,
     "metadata": {},
     "output_type": "execute_result"
    }
   ],
   "source": [
    "df[0:50]"
   ]
  },
  {
   "cell_type": "code",
   "execution_count": 4,
   "id": "bf819af3",
   "metadata": {
    "execution": {
     "iopub.execute_input": "2022-04-02T16:47:44.054611Z",
     "iopub.status.busy": "2022-04-02T16:47:44.053665Z",
     "iopub.status.idle": "2022-04-02T16:47:47.036201Z",
     "shell.execute_reply": "2022-04-02T16:47:47.036706Z",
     "shell.execute_reply.started": "2022-04-02T15:52:25.107494Z"
    },
    "papermill": {
     "duration": 3.009706,
     "end_time": "2022-04-02T16:47:47.036910",
     "exception": false,
     "start_time": "2022-04-02T16:47:44.027204",
     "status": "completed"
    },
    "tags": []
   },
   "outputs": [
    {
     "data": {
      "text/html": [
       "<div>\n",
       "<style scoped>\n",
       "    .dataframe tbody tr th:only-of-type {\n",
       "        vertical-align: middle;\n",
       "    }\n",
       "\n",
       "    .dataframe tbody tr th {\n",
       "        vertical-align: top;\n",
       "    }\n",
       "\n",
       "    .dataframe thead th {\n",
       "        text-align: right;\n",
       "    }\n",
       "</style>\n",
       "<table border=\"1\" class=\"dataframe\">\n",
       "  <thead>\n",
       "    <tr style=\"text-align: right;\">\n",
       "      <th></th>\n",
       "      <th>Respondent</th>\n",
       "      <th>Professional</th>\n",
       "      <th>ProgramHobby</th>\n",
       "      <th>Country</th>\n",
       "      <th>University</th>\n",
       "      <th>EmploymentStatus</th>\n",
       "      <th>FormalEducation</th>\n",
       "      <th>MajorUndergrad</th>\n",
       "      <th>HomeRemote</th>\n",
       "      <th>CompanySize</th>\n",
       "      <th>...</th>\n",
       "      <th>StackOverflowMakeMoney</th>\n",
       "      <th>Gender</th>\n",
       "      <th>HighestEducationParents</th>\n",
       "      <th>Race</th>\n",
       "      <th>SurveyLong</th>\n",
       "      <th>QuestionsInteresting</th>\n",
       "      <th>QuestionsConfusing</th>\n",
       "      <th>InterestedAnswers</th>\n",
       "      <th>Salary</th>\n",
       "      <th>ExpectedSalary</th>\n",
       "    </tr>\n",
       "  </thead>\n",
       "  <tbody>\n",
       "    <tr>\n",
       "      <th>0</th>\n",
       "      <td>1</td>\n",
       "      <td>Student</td>\n",
       "      <td>Yes, both</td>\n",
       "      <td>United States</td>\n",
       "      <td>No</td>\n",
       "      <td>Not employed, and not looking for work</td>\n",
       "      <td>Secondary school</td>\n",
       "      <td>NaN</td>\n",
       "      <td>NaN</td>\n",
       "      <td>NaN</td>\n",
       "      <td>...</td>\n",
       "      <td>Strongly disagree</td>\n",
       "      <td>Male</td>\n",
       "      <td>High school</td>\n",
       "      <td>White or of European descent</td>\n",
       "      <td>Strongly disagree</td>\n",
       "      <td>Strongly agree</td>\n",
       "      <td>Disagree</td>\n",
       "      <td>Strongly agree</td>\n",
       "      <td>NaN</td>\n",
       "      <td>NaN</td>\n",
       "    </tr>\n",
       "    <tr>\n",
       "      <th>1</th>\n",
       "      <td>2</td>\n",
       "      <td>Student</td>\n",
       "      <td>Yes, both</td>\n",
       "      <td>United Kingdom</td>\n",
       "      <td>Yes, full-time</td>\n",
       "      <td>Employed part-time</td>\n",
       "      <td>Some college/university study without earning ...</td>\n",
       "      <td>Computer science or software engineering</td>\n",
       "      <td>More than half, but not all, the time</td>\n",
       "      <td>20 to 99 employees</td>\n",
       "      <td>...</td>\n",
       "      <td>Strongly disagree</td>\n",
       "      <td>Male</td>\n",
       "      <td>A master's degree</td>\n",
       "      <td>White or of European descent</td>\n",
       "      <td>Somewhat agree</td>\n",
       "      <td>Somewhat agree</td>\n",
       "      <td>Disagree</td>\n",
       "      <td>Strongly agree</td>\n",
       "      <td>NaN</td>\n",
       "      <td>37500.0</td>\n",
       "    </tr>\n",
       "  </tbody>\n",
       "</table>\n",
       "<p>2 rows × 154 columns</p>\n",
       "</div>"
      ],
      "text/plain": [
       "   Respondent Professional ProgramHobby         Country      University  \\\n",
       "0           1      Student    Yes, both   United States              No   \n",
       "1           2      Student    Yes, both  United Kingdom  Yes, full-time   \n",
       "\n",
       "                         EmploymentStatus  \\\n",
       "0  Not employed, and not looking for work   \n",
       "1                      Employed part-time   \n",
       "\n",
       "                                     FormalEducation  \\\n",
       "0                                   Secondary school   \n",
       "1  Some college/university study without earning ...   \n",
       "\n",
       "                             MajorUndergrad  \\\n",
       "0                                       NaN   \n",
       "1  Computer science or software engineering   \n",
       "\n",
       "                              HomeRemote         CompanySize  ...  \\\n",
       "0                                    NaN                 NaN  ...   \n",
       "1  More than half, but not all, the time  20 to 99 employees  ...   \n",
       "\n",
       "  StackOverflowMakeMoney Gender HighestEducationParents  \\\n",
       "0      Strongly disagree   Male             High school   \n",
       "1      Strongly disagree   Male       A master's degree   \n",
       "\n",
       "                           Race         SurveyLong QuestionsInteresting  \\\n",
       "0  White or of European descent  Strongly disagree       Strongly agree   \n",
       "1  White or of European descent     Somewhat agree       Somewhat agree   \n",
       "\n",
       "  QuestionsConfusing InterestedAnswers  Salary  ExpectedSalary  \n",
       "0           Disagree    Strongly agree     NaN             NaN  \n",
       "1           Disagree    Strongly agree     NaN         37500.0  \n",
       "\n",
       "[2 rows x 154 columns]"
      ]
     },
     "execution_count": 4,
     "metadata": {},
     "output_type": "execute_result"
    }
   ],
   "source": [
    "df1 = pd.read_csv (r'/kaggle/input/so-survey-2017/survey_results_public.csv')\n",
    "df1.head(n=2)"
   ]
  },
  {
   "cell_type": "code",
   "execution_count": 5,
   "id": "75326834",
   "metadata": {
    "execution": {
     "iopub.execute_input": "2022-04-02T16:47:47.084087Z",
     "iopub.status.busy": "2022-04-02T16:47:47.081711Z",
     "iopub.status.idle": "2022-04-02T16:47:47.087404Z",
     "shell.execute_reply": "2022-04-02T16:47:47.087914Z",
     "shell.execute_reply.started": "2022-04-02T11:27:27.982707Z"
    },
    "papermill": {
     "duration": 0.030239,
     "end_time": "2022-04-02T16:47:47.088082",
     "exception": false,
     "start_time": "2022-04-02T16:47:47.057843",
     "status": "completed"
    },
    "tags": []
   },
   "outputs": [
    {
     "data": {
      "text/plain": [
       "(51392, 154)"
      ]
     },
     "execution_count": 5,
     "metadata": {},
     "output_type": "execute_result"
    }
   ],
   "source": [
    "# dimension of dataset\n",
    "df1.shape"
   ]
  },
  {
   "cell_type": "code",
   "execution_count": 6,
   "id": "21a2b4dd",
   "metadata": {
    "execution": {
     "iopub.execute_input": "2022-04-02T16:47:47.145207Z",
     "iopub.status.busy": "2022-04-02T16:47:47.144520Z",
     "iopub.status.idle": "2022-04-02T16:47:47.151113Z",
     "shell.execute_reply": "2022-04-02T16:47:47.151622Z",
     "shell.execute_reply.started": "2022-04-02T11:33:44.758145Z"
    },
    "papermill": {
     "duration": 0.042035,
     "end_time": "2022-04-02T16:47:47.151831",
     "exception": false,
     "start_time": "2022-04-02T16:47:47.109796",
     "status": "completed"
    },
    "tags": []
   },
   "outputs": [
    {
     "name": "stdout",
     "output_type": "stream",
     "text": [
      "['Secondary school', \"Some college/university study without earning a bachelor's degree\", \"Bachelor's degree\", 'Doctoral degree', \"Master's degree\", 'Professional degree', 'Primary/elementary school', 'I prefer not to answer', 'I never completed any formal education']\n"
     ]
    }
   ],
   "source": [
    "#Formal education unique values\n",
    "print(df1['FormalEducation'].unique().tolist())"
   ]
  },
  {
   "cell_type": "code",
   "execution_count": 7,
   "id": "78d21664",
   "metadata": {
    "execution": {
     "iopub.execute_input": "2022-04-02T16:47:47.200585Z",
     "iopub.status.busy": "2022-04-02T16:47:47.199593Z",
     "iopub.status.idle": "2022-04-02T16:47:47.525012Z",
     "shell.execute_reply": "2022-04-02T16:47:47.524439Z",
     "shell.execute_reply.started": "2022-04-02T11:39:18.459187Z"
    },
    "papermill": {
     "duration": 0.35119,
     "end_time": "2022-04-02T16:47:47.525153",
     "exception": false,
     "start_time": "2022-04-02T16:47:47.173963",
     "status": "completed"
    },
    "tags": []
   },
   "outputs": [
    {
     "data": {
      "text/plain": [
       "<AxesSubplot:>"
      ]
     },
     "execution_count": 7,
     "metadata": {},
     "output_type": "execute_result"
    },
    {
     "data": {
      "image/png": "[encoded data removed]",
      "text/plain": [
       "<Figure size 432x288 with 1 Axes>"
      ]
     },
     "metadata": {
      "needs_background": "light"
     },
     "output_type": "display_data"
    }
   ],
   "source": [
    "# Q1). Which top 3 formal education most of the responders have done?\n",
    "Formaledu_stats=df1['FormalEducation'].value_counts()\n",
    "(Formaledu_stats/df1.shape[0]).plot(kind='bar')\n",
    "#plt.title(\"Formal Education\")"
   ]
  },
  {
   "cell_type": "code",
   "execution_count": 8,
   "id": "0dbb691b",
   "metadata": {
    "execution": {
     "iopub.execute_input": "2022-04-02T16:47:47.575617Z",
     "iopub.status.busy": "2022-04-02T16:47:47.574953Z",
     "iopub.status.idle": "2022-04-02T16:47:47.590624Z",
     "shell.execute_reply": "2022-04-02T16:47:47.591139Z",
     "shell.execute_reply.started": "2022-04-02T14:08:32.364664Z"
    },
    "papermill": {
     "duration": 0.042722,
     "end_time": "2022-04-02T16:47:47.591310",
     "exception": false,
     "start_time": "2022-04-02T16:47:47.548588",
     "status": "completed"
    },
    "tags": []
   },
   "outputs": [
    {
     "data": {
      "text/plain": [
       "Bachelor's degree                                                    21609\n",
       "Master's degree                                                      11141\n",
       "Some college/university study without earning a bachelor's degree     8129\n",
       "Secondary school                                                      5908\n",
       "Doctoral degree                                                       1308\n",
       "I prefer not to answer                                                1109\n",
       "Primary/elementary school                                             1047\n",
       "Professional degree                                                    715\n",
       "I never completed any formal education                                 426\n",
       "Name: FormalEducation, dtype: int64"
      ]
     },
     "execution_count": 8,
     "metadata": {},
     "output_type": "execute_result"
    }
   ],
   "source": [
    "Formaledu_stats=df1['FormalEducation'].value_counts()\n",
    "Formaledu_stats"
   ]
  },
  {
   "cell_type": "code",
   "execution_count": 9,
   "id": "c0d6e95a",
   "metadata": {
    "execution": {
     "iopub.execute_input": "2022-04-02T16:47:48.238540Z",
     "iopub.status.busy": "2022-04-02T16:47:48.237825Z",
     "iopub.status.idle": "2022-04-02T16:47:48.838815Z",
     "shell.execute_reply": "2022-04-02T16:47:48.839316Z",
     "shell.execute_reply.started": "2022-04-02T11:43:50.449951Z"
    },
    "papermill": {
     "duration": 1.224225,
     "end_time": "2022-04-02T16:47:48.839494",
     "exception": false,
     "start_time": "2022-04-02T16:47:47.615269",
     "status": "completed"
    },
    "tags": []
   },
   "outputs": [
    {
     "name": "stdout",
     "output_type": "stream",
     "text": [
      "['MajorUndergrad', 'HomeRemote', 'CompanySize', 'CompanyType', 'YearsProgram', 'YearsCodedJob', 'YearsCodedJobPast', 'DeveloperType', 'WebDeveloperType', 'MobileDeveloperType']\n",
      "Number of columns with missing values: 147\n"
     ]
    }
   ],
   "source": [
    "#List of all the coloumns with missing values\n",
    "print(df1.columns[df1.isnull().any()].to_list()[:10])\n",
    "print('Number of columns with missing values:',len(df1.columns[df1.isnull().any()].to_list()))"
   ]
  },
  {
   "cell_type": "code",
   "execution_count": 10,
   "id": "ef9bc59a",
   "metadata": {
    "execution": {
     "iopub.execute_input": "2022-04-02T16:47:48.896402Z",
     "iopub.status.busy": "2022-04-02T16:47:48.894985Z",
     "iopub.status.idle": "2022-04-02T16:47:48.907664Z",
     "shell.execute_reply": "2022-04-02T16:47:48.908183Z",
     "shell.execute_reply.started": "2022-04-02T14:14:33.495778Z"
    },
    "papermill": {
     "duration": 0.043925,
     "end_time": "2022-04-02T16:47:48.908357",
     "exception": false,
     "start_time": "2022-04-02T16:47:48.864432",
     "status": "completed"
    },
    "tags": []
   },
   "outputs": [
    {
     "data": {
      "text/plain": [
       "FormalEducation\n",
       "Doctoral degree                                                      78527.933053\n",
       "Primary/elementary school                                            62677.337356\n",
       "Master's degree                                                      58250.838766\n",
       "Bachelor's degree                                                    56914.358553\n",
       "Some college/university study without earning a bachelor's degree    55912.810459\n",
       "I never completed any formal education                               44430.660621\n",
       "Secondary school                                                     40395.148419\n",
       "Professional degree                                                  39503.658863\n",
       "I prefer not to answer                                               38284.836141\n",
       "Name: Salary, dtype: float64"
      ]
     },
     "execution_count": 10,
     "metadata": {},
     "output_type": "execute_result"
    }
   ],
   "source": [
    "# Q2). Which formal eduction has received highest average salary? \n",
    "# Is Professional degree holders are getting higher salary that Bachelor's degree holders?\n",
    "b = df1[['FormalEducation','Salary']][df1.Salary.notnull()]\n",
    "d =b.groupby('FormalEducation')['Salary'].mean().sort_values(ascending=False)\n",
    "d"
   ]
  },
  {
   "cell_type": "code",
   "execution_count": 11,
   "id": "c20d4860",
   "metadata": {
    "execution": {
     "iopub.execute_input": "2022-04-02T16:47:48.965129Z",
     "iopub.status.busy": "2022-04-02T16:47:48.964135Z",
     "iopub.status.idle": "2022-04-02T16:47:48.976880Z",
     "shell.execute_reply": "2022-04-02T16:47:48.977341Z",
     "shell.execute_reply.started": "2022-04-02T14:15:30.128363Z"
    },
    "papermill": {
     "duration": 0.044184,
     "end_time": "2022-04-02T16:47:48.977513",
     "exception": false,
     "start_time": "2022-04-02T16:47:48.933329",
     "status": "completed"
    },
    "tags": []
   },
   "outputs": [
    {
     "data": {
      "text/plain": [
       "FormalEducation\n",
       "Doctoral degree                                                      64516.129032\n",
       "Primary/elementary school                                            58064.516129\n",
       "Bachelor's degree                                                    52500.000000\n",
       "Master's degree                                                      50125.313283\n",
       "Some college/university study without earning a bachelor's degree    48387.096774\n",
       "I never completed any formal education                               37756.598240\n",
       "I prefer not to answer                                               36559.139785\n",
       "Secondary school                                                     34090.909091\n",
       "Professional degree                                                  32258.064516\n",
       "Name: Salary, dtype: float64"
      ]
     },
     "execution_count": 11,
     "metadata": {},
     "output_type": "execute_result"
    }
   ],
   "source": [
    "b1 = df1[['FormalEducation','Salary']][df1.Salary.notnull()]\n",
    "d1 =b1.groupby('FormalEducation')['Salary'].median().sort_values(ascending=False)\n",
    "d1"
   ]
  },
  {
   "cell_type": "code",
   "execution_count": 12,
   "id": "f9d1defe",
   "metadata": {
    "execution": {
     "iopub.execute_input": "2022-04-02T16:47:49.032875Z",
     "iopub.status.busy": "2022-04-02T16:47:49.032187Z",
     "iopub.status.idle": "2022-04-02T16:47:49.392608Z",
     "shell.execute_reply": "2022-04-02T16:47:49.393095Z",
     "shell.execute_reply.started": "2022-04-02T14:16:20.087372Z"
    },
    "papermill": {
     "duration": 0.389325,
     "end_time": "2022-04-02T16:47:49.393274",
     "exception": false,
     "start_time": "2022-04-02T16:47:49.003949",
     "status": "completed"
    },
    "tags": []
   },
   "outputs": [
    {
     "data": {
      "text/plain": [
       "<AxesSubplot:xlabel='FormalEducation'>"
      ]
     },
     "execution_count": 12,
     "metadata": {},
     "output_type": "execute_result"
    },
    {
     "data": {
      "image/png": "[encoded data removed]",
      "text/plain": [
       "<Figure size 432x288 with 1 Axes>"
      ]
     },
     "metadata": {
      "needs_background": "light"
     },
     "output_type": "display_data"
    }
   ],
   "source": [
    "# bar Graph for avg salary received by formal education\n",
    "d.plot(kind='bar')"
   ]
  },
  {
   "cell_type": "code",
   "execution_count": 13,
   "id": "3f2da16c",
   "metadata": {
    "execution": {
     "iopub.execute_input": "2022-04-02T16:47:49.450653Z",
     "iopub.status.busy": "2022-04-02T16:47:49.450019Z",
     "iopub.status.idle": "2022-04-02T16:47:49.704120Z",
     "shell.execute_reply": "2022-04-02T16:47:49.703525Z",
     "shell.execute_reply.started": "2022-04-02T14:16:30.863225Z"
    },
    "papermill": {
     "duration": 0.283841,
     "end_time": "2022-04-02T16:47:49.704263",
     "exception": false,
     "start_time": "2022-04-02T16:47:49.420422",
     "status": "completed"
    },
    "tags": []
   },
   "outputs": [
    {
     "data": {
      "text/plain": [
       "<AxesSubplot:xlabel='FormalEducation'>"
      ]
     },
     "execution_count": 13,
     "metadata": {},
     "output_type": "execute_result"
    },
    {
     "data": {
      "image/png": "[encoded data removed]",
      "text/plain": [
       "<Figure size 432x288 with 1 Axes>"
      ]
     },
     "metadata": {
      "needs_background": "light"
     },
     "output_type": "display_data"
    }
   ],
   "source": [
    "d1.plot(kind='bar')"
   ]
  },
  {
   "cell_type": "code",
   "execution_count": 14,
   "id": "396f3a4a",
   "metadata": {
    "execution": {
     "iopub.execute_input": "2022-04-02T16:47:49.779633Z",
     "iopub.status.busy": "2022-04-02T16:47:49.778717Z",
     "iopub.status.idle": "2022-04-02T16:47:49.781862Z",
     "shell.execute_reply": "2022-04-02T16:47:49.782353Z",
     "shell.execute_reply.started": "2022-04-02T14:30:16.574631Z"
    },
    "papermill": {
     "duration": 0.049416,
     "end_time": "2022-04-02T16:47:49.782518",
     "exception": false,
     "start_time": "2022-04-02T16:47:49.733102",
     "status": "completed"
    },
    "tags": []
   },
   "outputs": [
    {
     "data": {
      "text/plain": [
       "United States      11455\n",
       "India               5197\n",
       "United Kingdom      4395\n",
       "Germany             4143\n",
       "Canada              2233\n",
       "                   ...  \n",
       "Pitcairn Island        1\n",
       "French Guyana          1\n",
       "Gabon                  1\n",
       "Monaco                 1\n",
       "Saint Helena           1\n",
       "Name: Country, Length: 201, dtype: int64"
      ]
     },
     "execution_count": 14,
     "metadata": {},
     "output_type": "execute_result"
    }
   ],
   "source": [
    "# Participants from diffrent countries\n",
    "Contry_part=df1['Country'].value_counts()\n",
    "Contry_part"
   ]
  },
  {
   "cell_type": "code",
   "execution_count": 15,
   "id": "156293c2",
   "metadata": {
    "execution": {
     "iopub.execute_input": "2022-04-02T16:47:49.844898Z",
     "iopub.status.busy": "2022-04-02T16:47:49.844163Z",
     "iopub.status.idle": "2022-04-02T16:47:50.076104Z",
     "shell.execute_reply": "2022-04-02T16:47:50.075441Z",
     "shell.execute_reply.started": "2022-04-02T14:30:31.192642Z"
    },
    "papermill": {
     "duration": 0.263954,
     "end_time": "2022-04-02T16:47:50.076247",
     "exception": false,
     "start_time": "2022-04-02T16:47:49.812293",
     "status": "completed"
    },
    "tags": []
   },
   "outputs": [
    {
     "data": {
      "text/plain": [
       "<AxesSubplot:>"
      ]
     },
     "execution_count": 15,
     "metadata": {},
     "output_type": "execute_result"
    },
    {
     "data": {
      "image/png": "[encoded data removed]",
      "text/plain": [
       "<Figure size 432x288 with 1 Axes>"
      ]
     },
     "metadata": {
      "needs_background": "light"
     },
     "output_type": "display_data"
    }
   ],
   "source": [
    "Contry_part[0:10].plot(kind='bar')"
   ]
  },
  {
   "cell_type": "code",
   "execution_count": 16,
   "id": "fbe36ded",
   "metadata": {
    "execution": {
     "iopub.execute_input": "2022-04-02T16:47:50.146788Z",
     "iopub.status.busy": "2022-04-02T16:47:50.146071Z",
     "iopub.status.idle": "2022-04-02T16:47:50.156750Z",
     "shell.execute_reply": "2022-04-02T16:47:50.156202Z",
     "shell.execute_reply.started": "2022-04-02T15:54:50.262630Z"
    },
    "papermill": {
     "duration": 0.04849,
     "end_time": "2022-04-02T16:47:50.156907",
     "exception": false,
     "start_time": "2022-04-02T16:47:50.108417",
     "status": "completed"
    },
    "tags": []
   },
   "outputs": [
    {
     "data": {
      "text/plain": [
       "CompanyType\n",
       "Publicly-traded corporation                                              79168.748281\n",
       "Venture-funded startup                                                   72827.046176\n",
       "Non-profit/non-governmental organization or private school/university    61448.325391\n",
       "Something else                                                           58631.065764\n",
       "Government agency or public school/university                            53860.161060\n",
       "Privately-held limited company, not in startup mode                      50325.502932\n",
       "Pre-series A startup                                                     48912.831142\n",
       "Sole proprietorship or partnership, not in startup mode                  45439.387981\n",
       "I prefer not to answer                                                   43725.020919\n",
       "I don't know                                                             42887.701707\n",
       "State-owned company                                                      31033.753609\n",
       "Name: Salary, dtype: float64"
      ]
     },
     "execution_count": 16,
     "metadata": {},
     "output_type": "execute_result"
    }
   ],
   "source": [
    "# Q3). Which type of company gives highest average salary?\n",
    "CompTyp_sal = df1[['CompanyType','Salary']][df1.Salary.notnull()]\n",
    "CompTyp_avg =CompTyp_sal.groupby('CompanyType')['Salary'].mean().sort_values(ascending=False)\n",
    "CompTyp_avg"
   ]
  },
  {
   "cell_type": "code",
   "execution_count": 17,
   "id": "5e2d2fc2",
   "metadata": {
    "execution": {
     "iopub.execute_input": "2022-04-02T16:47:50.224889Z",
     "iopub.status.busy": "2022-04-02T16:47:50.224197Z",
     "iopub.status.idle": "2022-04-02T16:47:50.520157Z",
     "shell.execute_reply": "2022-04-02T16:47:50.520664Z",
     "shell.execute_reply.started": "2022-04-02T16:14:12.646460Z"
    },
    "papermill": {
     "duration": 0.33298,
     "end_time": "2022-04-02T16:47:50.520876",
     "exception": false,
     "start_time": "2022-04-02T16:47:50.187896",
     "status": "completed"
    },
    "tags": []
   },
   "outputs": [
    {
     "data": {
      "text/plain": [
       "<AxesSubplot:xlabel='CompanyType'>"
      ]
     },
     "execution_count": 17,
     "metadata": {},
     "output_type": "execute_result"
    },
    {
     "data": {
      "image/png": "[encoded data removed]",
      "text/plain": [
       "<Figure size 432x288 with 1 Axes>"
      ]
     },
     "metadata": {
      "needs_background": "light"
     },
     "output_type": "display_data"
    }
   ],
   "source": [
    "CompTyp_avg.plot(kind='bar')"
   ]
  },
  {
   "cell_type": "code",
   "execution_count": null,
   "id": "9035eaa5",
   "metadata": {
    "papermill": {
     "duration": 0.033765,
     "end_time": "2022-04-02T16:47:50.588237",
     "exception": false,
     "start_time": "2022-04-02T16:47:50.554472",
     "status": "completed"
    },
    "tags": []
   },
   "outputs": [],
   "source": []
  }
 ],
 "metadata": {
  "kernelspec": {
   "display_name": "Python 3",
   "language": "python",
   "name": "python3"
  },
  "language_info": {
   "codemirror_mode": {
    "name": "ipython",
    "version": 3
   },
   "file_extension": ".py",
   "mimetype": "text/x-python",
   "name": "python",
   "nbconvert_exporter": "python",
   "pygments_lexer": "ipython3",
   "version": "3.7.12"
  },
  "papermill": {
   "default_parameters": {},
   "duration": 17.123392,
   "end_time": "2022-04-02T16:47:51.331077",
   "environment_variables": {},
   "exception": null,
   "input_path": "__notebook__.ipynb",
   "output_path": "__notebook__.ipynb",
   "parameters": {},
   "start_time": "2022-04-02T16:47:34.207685",
   "version": "2.3.3"
  }
 },
 "nbformat": 4,
 "nbformat_minor": 5
}
